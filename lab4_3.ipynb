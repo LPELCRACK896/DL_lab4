{
 "cells": [
  {
   "cell_type": "code",
   "execution_count": 20,
   "metadata": {},
   "outputs": [
    {
     "name": "stdout",
     "output_type": "stream",
     "text": [
      "Index(['LIMIT_BAL', 'SEX', 'EDUCATION', 'MARRIAGE', 'AGE', 'PAY_0', 'PAY_2',\n",
      "       'PAY_3', 'PAY_4', 'PAY_5', 'PAY_6', 'BILL_AMT1', 'BILL_AMT2',\n",
      "       'BILL_AMT3', 'BILL_AMT4', 'BILL_AMT5', 'BILL_AMT6', 'PAY_AMT1',\n",
      "       'PAY_AMT2', 'PAY_AMT3', 'PAY_AMT4', 'PAY_AMT5', 'PAY_AMT6',\n",
      "       'default payment next month'],\n",
      "      dtype='object')\n"
     ]
    }
   ],
   "source": [
    "\n",
    "import numpy as np\n",
    "import pandas as pd\n",
    "from sklearn.model_selection import train_test_split\n",
    "from sklearn.preprocessing import StandardScaler\n",
    "from tensorflow import keras\n",
    "from tensorflow.keras import layers\n",
    "\n",
    "\n",
    "data = pd.read_csv(\"data.csv\", sep=\";\" )\n",
    "\n",
    "print(data.columns)"
   ]
  },
  {
   "cell_type": "code",
   "execution_count": 21,
   "metadata": {},
   "outputs": [],
   "source": [
    "from sklearn.model_selection import train_test_split\n",
    "from sklearn.compose import ColumnTransformer\n",
    "from sklearn.pipeline import Pipeline\n",
    "from sklearn.preprocessing import OneHotEncoder, StandardScaler\n",
    "\n",
    "omit = [\"SEX\", \"EDUCATION\", 'AGE', 'MARRIAGE']\n",
    "\n",
    "X = data.drop('default payment next month', axis=1)\n",
    "X = X.drop(omit, axis=1)\n",
    "y = data['default payment next month']\n",
    "\n",
    "def deleteFromList(list, omition_list):\n",
    "    return [item for item in list if item not in omition_list]\n",
    "\n",
    "\n",
    "\n",
    "\n",
    "# Dividir los datos en conjuntos de entrenamiento y prueba\n",
    "X_train, X_test, y_train, y_test = train_test_split(X, y, test_size=0.2, random_state=42)\n",
    "\n",
    "train_data = pd.concat([X_train, y_train], axis=1)\n",
    "\n",
    "# Separa las clases\n",
    "non_default = train_data[train_data['default payment next month'] == 0]\n",
    "default = train_data[train_data['default payment next month'] == 1]\n",
    "\n",
    "# Realiza el submuestreo (undersampling)\n",
    "non_default_undersampled = non_default.sample(len(default), random_state=42)\n",
    "\n",
    "# Combina las clases de nuevo\n",
    "undersampled_data = pd.concat([non_default_undersampled, default])\n",
    "\n",
    "# Separa las características y las etiquetas de nuevo\n",
    "X_train_undersampled = undersampled_data.drop('default payment next month', axis=1)\n",
    "y_train_undersampled = undersampled_data['default payment next month']\n",
    "\n",
    "\n",
    "#X_train = X_train_undersampled\n",
    "#y_train = y_train_undersampled\n",
    "\n",
    "# Columnas numéricas y categóricas\n",
    "num_attribs = deleteFromList(['LIMIT_BAL', 'AGE', 'BILL_AMT1', 'BILL_AMT2', 'BILL_AMT3', 'BILL_AMT4', 'BILL_AMT5', 'BILL_AMT6', 'PAY_AMT1', 'PAY_AMT2', 'PAY_AMT3', 'PAY_AMT4', 'PAY_AMT5', 'PAY_AMT6'], omit)\n",
    "cat_attribs = deleteFromList(['SEX', 'EDUCATION', 'MARRIAGE', 'PAY_0', 'PAY_2', 'PAY_3', 'PAY_4', 'PAY_5', 'PAY_6'], omit)\n",
    "\n",
    "# Tubos de preprocesamiento\n",
    "num_pipeline = Pipeline([\n",
    "        ('std_scaler', StandardScaler()),\n",
    "    ])\n",
    "\n",
    "cat_pipeline = Pipeline([\n",
    "        ('encoder', OneHotEncoder()),\n",
    "    ])\n",
    "\n",
    "# Combinar todo\n",
    "preprocessor = ColumnTransformer([\n",
    "        (\"num\", num_pipeline, num_attribs),\n",
    "        (\"cat\", cat_pipeline, cat_attribs),\n",
    "    ])\n",
    "\n",
    "X_train_prepared = preprocessor.fit_transform(X_train)\n",
    "X_test_prepared = preprocessor.transform(X_test)\n"
   ]
  },
  {
   "cell_type": "code",
   "execution_count": 22,
   "metadata": {},
   "outputs": [],
   "source": [
    "# %%\n",
    "# Construir el modelo\n",
    "from tensorflow.keras import layers, regularizers\n",
    "\n",
    "\n",
    "model = keras.Sequential([\n",
    "    layers.Dense(128, activation='relu', input_shape=(X_train_prepared.shape[1],)),\n",
    "    layers.Dropout(0.2),  # Añadir Dropout después de la primera capa oculta con una tasa del 20%\n",
    "    layers.Dense(64, activation='relu', kernel_regularizer=regularizers.l1_l2(l1=1e-5, l2=1e-4)),\n",
    "    layers.Dropout(0.2),  # Añadir Dropout después de la segunda capa oculta con una tasa del 20%\n",
    "    layers.Dense(32, activation='relu', kernel_regularizer=regularizers.l1_l2(l1=1e-5, l2=1e-4)),\n",
    "    layers.Dropout(0.2),  # Añadir Dropout después de la tercera capa oculta con una tasa del 20%\n",
    "    layers.Dense(1, activation='sigmoid')\n",
    "])\n",
    "\n",
    "# Compilar el modelo\n",
    "model.compile(\n",
    "    optimizer='adam',\n",
    "    loss='binary_crossentropy',\n",
    "    metrics=['accuracy']\n",
    ")\n",
    "\n",
    "# Compilar el modelo\n",
    "model.compile(\n",
    "    optimizer='adam',\n",
    "    loss='binary_crossentropy',\n",
    "    metrics=['accuracy']\n",
    ")\n"
   ]
  },
  {
   "cell_type": "code",
   "execution_count": 23,
   "metadata": {},
   "outputs": [
    {
     "name": "stdout",
     "output_type": "stream",
     "text": [
      "Epoch 1/20\n",
      "300/300 [==============================] - 3s 6ms/step - loss: 0.4905 - accuracy: 0.8048 - val_loss: 0.4596 - val_accuracy: 0.8181\n",
      "Epoch 2/20\n",
      "300/300 [==============================] - 1s 4ms/step - loss: 0.4631 - accuracy: 0.8196 - val_loss: 0.4565 - val_accuracy: 0.8133\n",
      "Epoch 3/20\n",
      "300/300 [==============================] - 1s 4ms/step - loss: 0.4546 - accuracy: 0.8214 - val_loss: 0.4568 - val_accuracy: 0.8142\n",
      "Epoch 4/20\n",
      "300/300 [==============================] - 1s 4ms/step - loss: 0.4498 - accuracy: 0.8205 - val_loss: 0.4537 - val_accuracy: 0.8123\n",
      "Epoch 5/20\n",
      "300/300 [==============================] - 1s 4ms/step - loss: 0.4460 - accuracy: 0.8231 - val_loss: 0.4512 - val_accuracy: 0.8112\n",
      "Epoch 6/20\n",
      "300/300 [==============================] - 1s 4ms/step - loss: 0.4435 - accuracy: 0.8216 - val_loss: 0.4492 - val_accuracy: 0.8123\n",
      "Epoch 7/20\n",
      "300/300 [==============================] - 1s 4ms/step - loss: 0.4415 - accuracy: 0.8232 - val_loss: 0.4489 - val_accuracy: 0.8138\n",
      "Epoch 8/20\n",
      "300/300 [==============================] - 1s 4ms/step - loss: 0.4388 - accuracy: 0.8234 - val_loss: 0.4489 - val_accuracy: 0.8135\n",
      "Epoch 9/20\n",
      "300/300 [==============================] - 1s 4ms/step - loss: 0.4371 - accuracy: 0.8233 - val_loss: 0.4492 - val_accuracy: 0.8125\n",
      "Epoch 10/20\n",
      "300/300 [==============================] - 1s 4ms/step - loss: 0.4357 - accuracy: 0.8243 - val_loss: 0.4451 - val_accuracy: 0.8146\n",
      "Epoch 11/20\n",
      "300/300 [==============================] - 1s 4ms/step - loss: 0.4338 - accuracy: 0.8236 - val_loss: 0.4473 - val_accuracy: 0.8129\n",
      "Epoch 12/20\n",
      "300/300 [==============================] - 1s 4ms/step - loss: 0.4323 - accuracy: 0.8254 - val_loss: 0.4461 - val_accuracy: 0.8144\n",
      "Epoch 13/20\n",
      "300/300 [==============================] - 1s 4ms/step - loss: 0.4315 - accuracy: 0.8258 - val_loss: 0.4485 - val_accuracy: 0.8138\n",
      "Epoch 14/20\n",
      "300/300 [==============================] - 1s 4ms/step - loss: 0.4313 - accuracy: 0.8255 - val_loss: 0.4471 - val_accuracy: 0.8152\n",
      "Epoch 15/20\n",
      "300/300 [==============================] - 1s 4ms/step - loss: 0.4290 - accuracy: 0.8249 - val_loss: 0.4468 - val_accuracy: 0.8146\n",
      "Epoch 16/20\n",
      "300/300 [==============================] - 1s 4ms/step - loss: 0.4266 - accuracy: 0.8253 - val_loss: 0.4463 - val_accuracy: 0.8135\n",
      "Epoch 17/20\n",
      "300/300 [==============================] - 1s 4ms/step - loss: 0.4263 - accuracy: 0.8262 - val_loss: 0.4471 - val_accuracy: 0.8144\n",
      "Epoch 18/20\n",
      "300/300 [==============================] - 1s 4ms/step - loss: 0.4257 - accuracy: 0.8259 - val_loss: 0.4477 - val_accuracy: 0.8102\n",
      "Epoch 19/20\n",
      "300/300 [==============================] - 1s 4ms/step - loss: 0.4268 - accuracy: 0.8257 - val_loss: 0.4504 - val_accuracy: 0.8102\n",
      "Epoch 20/20\n",
      "300/300 [==============================] - 1s 4ms/step - loss: 0.4259 - accuracy: 0.8269 - val_loss: 0.4467 - val_accuracy: 0.8158\n"
     ]
    }
   ],
   "source": [
    "X_train_full, X_val, y_train_full, y_val = train_test_split(\n",
    "    X_train_prepared, y_train, test_size=0.2, random_state=42)\n",
    "\n",
    "X_train_full = X_train_full.toarray()\n",
    "X_val = X_val.toarray()\n",
    "\n",
    "\n",
    "\n",
    "\n",
    "history = model.fit(\n",
    "    X_train_full, y_train_full,\n",
    "    epochs=20,\n",
    "    batch_size=64,\n",
    "    validation_data=(X_val, y_val)\n",
    ")\n"
   ]
  },
  {
   "cell_type": "code",
   "execution_count": 24,
   "metadata": {},
   "outputs": [
    {
     "name": "stdout",
     "output_type": "stream",
     "text": [
      "188/188 - 1s - loss: 0.4407 - accuracy: 0.8213 - 657ms/epoch - 3ms/step\n"
     ]
    },
    {
     "data": {
      "text/plain": [
       "[0.4407429099082947, 0.8213333487510681]"
      ]
     },
     "execution_count": 24,
     "metadata": {},
     "output_type": "execute_result"
    }
   ],
   "source": [
    "model.evaluate(X_test_prepared.toarray(), y_test, verbose = 2)"
   ]
  }
 ],
 "metadata": {
  "kernelspec": {
   "display_name": "Python 3",
   "language": "python",
   "name": "python3"
  },
  "language_info": {
   "codemirror_mode": {
    "name": "ipython",
    "version": 3
   },
   "file_extension": ".py",
   "mimetype": "text/x-python",
   "name": "python",
   "nbconvert_exporter": "python",
   "pygments_lexer": "ipython3",
   "version": "3.11.3"
  },
  "orig_nbformat": 4
 },
 "nbformat": 4,
 "nbformat_minor": 2
}

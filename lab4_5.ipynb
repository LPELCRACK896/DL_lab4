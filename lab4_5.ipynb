{
 "cells": [
  {
   "cell_type": "code",
   "execution_count": 1,
   "metadata": {},
   "outputs": [],
   "source": [
    "import pandas as pd\n",
    "import numpy as np\n",
    "import tensorflow as tf\n",
    "from sklearn.model_selection import train_test_split\n",
    "from sklearn.preprocessing import StandardScaler\n",
    "from sklearn.metrics import accuracy_score\n",
    "from tensorflow.keras.regularizers import l2\n"
   ]
  },
  {
   "cell_type": "code",
   "execution_count": 2,
   "metadata": {},
   "outputs": [],
   "source": [
    "# Leer el archivo CSV\n",
    "data = pd.read_csv('data.csv', sep=';')\n",
    "\n",
    "# Dividir los datos en características (X) y etiquetas (y)\n",
    "X = data.drop(columns=['default payment next month'])\n",
    "y = data['default payment next month']\n",
    "\n",
    "# Dividir los datos en conjuntos de entrenamiento y prueba\n",
    "X_train, X_test, y_train, y_test = train_test_split(X, y, test_size=0.2, random_state=42)\n",
    "\n"
   ]
  },
  {
   "cell_type": "code",
   "execution_count": 3,
   "metadata": {},
   "outputs": [],
   "source": [
    "# Normalizar los datos\n",
    "scaler = StandardScaler()\n",
    "X_train = scaler.fit_transform(X_train)\n",
    "X_test = scaler.transform(X_test)\n",
    "\n",
    "# Definir la red neuronal con regularización L2\n",
    "model = tf.keras.Sequential([\n",
    "    tf.keras.layers.Dense(128, activation='relu', input_shape=(X_train.shape[1],), kernel_regularizer=l2(0.001)),\n",
    "    tf.keras.layers.Dense(64, activation='relu', kernel_regularizer=l2(0.001)),\n",
    "    tf.keras.layers.Dense(32, activation='relu', kernel_regularizer=l2(0.001)),\n",
    "    tf.keras.layers.Dense(1, activation='sigmoid')\n",
    "])\n",
    "\n"
   ]
  },
  {
   "cell_type": "code",
   "execution_count": 4,
   "metadata": {},
   "outputs": [
    {
     "name": "stdout",
     "output_type": "stream",
     "text": [
      "Epoch 1/20\n",
      "750/750 [==============================] - 2s 2ms/step - loss: 0.5579 - accuracy: 0.8115\n",
      "Epoch 2/20\n",
      "750/750 [==============================] - 1s 2ms/step - loss: 0.4829 - accuracy: 0.8183\n",
      "Epoch 3/20\n",
      "750/750 [==============================] - 1s 2ms/step - loss: 0.4599 - accuracy: 0.8195\n",
      "Epoch 4/20\n",
      "750/750 [==============================] - 2s 2ms/step - loss: 0.4513 - accuracy: 0.8201\n",
      "Epoch 5/20\n",
      "750/750 [==============================] - 2s 3ms/step - loss: 0.4469 - accuracy: 0.8196\n",
      "Epoch 6/20\n",
      "750/750 [==============================] - 2s 3ms/step - loss: 0.4436 - accuracy: 0.8203\n",
      "Epoch 7/20\n",
      "750/750 [==============================] - 2s 2ms/step - loss: 0.4419 - accuracy: 0.8194\n",
      "Epoch 8/20\n",
      "750/750 [==============================] - 2s 2ms/step - loss: 0.4399 - accuracy: 0.8204\n",
      "Epoch 9/20\n",
      "750/750 [==============================] - 2s 2ms/step - loss: 0.4387 - accuracy: 0.8207\n",
      "Epoch 10/20\n",
      "750/750 [==============================] - 2s 2ms/step - loss: 0.4380 - accuracy: 0.8208\n",
      "Epoch 11/20\n",
      "750/750 [==============================] - 2s 2ms/step - loss: 0.4373 - accuracy: 0.8212\n",
      "Epoch 12/20\n",
      "750/750 [==============================] - 2s 2ms/step - loss: 0.4371 - accuracy: 0.8213\n",
      "Epoch 13/20\n",
      "750/750 [==============================] - 2s 2ms/step - loss: 0.4365 - accuracy: 0.8201\n",
      "Epoch 14/20\n",
      "750/750 [==============================] - 2s 2ms/step - loss: 0.4357 - accuracy: 0.8214\n",
      "Epoch 15/20\n",
      "750/750 [==============================] - 2s 3ms/step - loss: 0.4354 - accuracy: 0.8207\n",
      "Epoch 16/20\n",
      "750/750 [==============================] - 2s 3ms/step - loss: 0.4354 - accuracy: 0.8205\n",
      "Epoch 17/20\n",
      "750/750 [==============================] - 2s 3ms/step - loss: 0.4349 - accuracy: 0.8214\n",
      "Epoch 18/20\n",
      "750/750 [==============================] - 2s 2ms/step - loss: 0.4344 - accuracy: 0.8218\n",
      "Epoch 19/20\n",
      "750/750 [==============================] - 2s 2ms/step - loss: 0.4343 - accuracy: 0.8212\n",
      "Epoch 20/20\n",
      "750/750 [==============================] - 2s 2ms/step - loss: 0.4337 - accuracy: 0.8212\n"
     ]
    },
    {
     "data": {
      "text/plain": [
       "<keras.src.callbacks.History at 0x1be26cdaf90>"
      ]
     },
     "execution_count": 4,
     "metadata": {},
     "output_type": "execute_result"
    }
   ],
   "source": [
    "# Compilar el modelo\n",
    "model.compile(optimizer='adam', loss='binary_crossentropy', metrics=['accuracy'])\n",
    "\n",
    "# Entrenar el modelo\n",
    "model.fit(X_train, y_train, epochs=20, batch_size=32)\n"
   ]
  },
  {
   "cell_type": "code",
   "execution_count": 5,
   "metadata": {},
   "outputs": [
    {
     "name": "stdout",
     "output_type": "stream",
     "text": [
      "188/188 [==============================] - 0s 1ms/step\n",
      "Accuracy en el conjunto de prueba: 81.98%\n"
     ]
    }
   ],
   "source": [
    "# Evaluar el modelo en el conjunto de prueba\n",
    "y_pred_proba = model.predict(X_test)\n",
    "y_pred = (y_pred_proba > 0.5).astype(int)\n",
    "accuracy = accuracy_score(y_test, y_pred)\n",
    "print(f'Accuracy en el conjunto de prueba: {accuracy * 100:.2f}%')"
   ]
  }
 ],
 "metadata": {
  "kernelspec": {
   "display_name": "Python 3",
   "language": "python",
   "name": "python3"
  },
  "language_info": {
   "codemirror_mode": {
    "name": "ipython",
    "version": 3
   },
   "file_extension": ".py",
   "mimetype": "text/x-python",
   "name": "python",
   "nbconvert_exporter": "python",
   "pygments_lexer": "ipython3",
   "version": "3.11.5"
  },
  "orig_nbformat": 4
 },
 "nbformat": 4,
 "nbformat_minor": 2
}

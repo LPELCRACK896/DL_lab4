{
 "cells": [
  {
   "cell_type": "code",
   "execution_count": 1,
   "metadata": {},
   "outputs": [],
   "source": [
    "import pandas as pd\n",
    "import numpy as np\n",
    "import tensorflow as tf\n",
    "from sklearn.model_selection import train_test_split\n",
    "from sklearn.preprocessing import StandardScaler\n",
    "from sklearn.metrics import accuracy_score\n",
    "\n"
   ]
  },
  {
   "cell_type": "code",
   "execution_count": 2,
   "metadata": {},
   "outputs": [],
   "source": [
    "# Cargar los datos desde el archivo CSV\n",
    "data = pd.read_csv('data.csv', sep=';')\n",
    "\n",
    "# Dividir el conjunto de datos en características (X) y etiquetas (y)\n",
    "X = data.drop(columns=['default payment next month'])\n",
    "y = data['default payment next month']\n",
    "\n",
    "# Dividir el conjunto de datos en entrenamiento y prueba\n",
    "X_train, X_test, y_train, y_test = train_test_split(X, y, test_size=0.2, random_state=42)\n",
    "\n",
    "# Escalar las características para normalizarlas\n",
    "scaler = StandardScaler()\n",
    "X_train = scaler.fit_transform(X_train)\n",
    "X_test = scaler.transform(X_test)\n",
    "\n"
   ]
  },
  {
   "cell_type": "code",
   "execution_count": 3,
   "metadata": {},
   "outputs": [],
   "source": [
    "# Crear un modelo más complejo con capas adicionales\n",
    "model = tf.keras.Sequential([\n",
    "    tf.keras.layers.Input(shape=(X_train.shape[1],)),\n",
    "    tf.keras.layers.Dense(128, activation='relu'),  # Capa oculta 1 con 128 neuronas\n",
    "    tf.keras.layers.Dense(64, activation='relu'),   # Capa oculta 2 con 64 neuronas\n",
    "    tf.keras.layers.Dense(32, activation='relu'),   # Capa oculta 3 con 32 neuronas\n",
    "    tf.keras.layers.Dense(1, activation='sigmoid')  # Capa de salida\n",
    "])\n",
    "\n"
   ]
  },
  {
   "cell_type": "code",
   "execution_count": 4,
   "metadata": {},
   "outputs": [
    {
     "name": "stdout",
     "output_type": "stream",
     "text": [
      "Epoch 1/20\n",
      "300/300 [==============================] - 3s 4ms/step - loss: 0.4663 - accuracy: 0.8108 - val_loss: 0.4534 - val_accuracy: 0.8150\n",
      "Epoch 2/20\n",
      "300/300 [==============================] - 1s 3ms/step - loss: 0.4371 - accuracy: 0.8185 - val_loss: 0.4476 - val_accuracy: 0.8177\n",
      "Epoch 3/20\n",
      "300/300 [==============================] - 1s 3ms/step - loss: 0.4302 - accuracy: 0.8208 - val_loss: 0.4421 - val_accuracy: 0.8160\n",
      "Epoch 4/20\n",
      "300/300 [==============================] - 1s 3ms/step - loss: 0.4259 - accuracy: 0.8213 - val_loss: 0.4455 - val_accuracy: 0.8158\n",
      "Epoch 5/20\n",
      "300/300 [==============================] - 1s 3ms/step - loss: 0.4224 - accuracy: 0.8228 - val_loss: 0.4427 - val_accuracy: 0.8179\n",
      "Epoch 6/20\n",
      "300/300 [==============================] - 1s 3ms/step - loss: 0.4210 - accuracy: 0.8236 - val_loss: 0.4404 - val_accuracy: 0.8188\n",
      "Epoch 7/20\n",
      "300/300 [==============================] - 1s 3ms/step - loss: 0.4176 - accuracy: 0.8242 - val_loss: 0.4384 - val_accuracy: 0.8181\n",
      "Epoch 8/20\n",
      "300/300 [==============================] - 1s 3ms/step - loss: 0.4150 - accuracy: 0.8236 - val_loss: 0.4438 - val_accuracy: 0.8200\n",
      "Epoch 9/20\n",
      "300/300 [==============================] - 1s 3ms/step - loss: 0.4135 - accuracy: 0.8249 - val_loss: 0.4461 - val_accuracy: 0.8140\n",
      "Epoch 10/20\n",
      "300/300 [==============================] - 1s 3ms/step - loss: 0.4119 - accuracy: 0.8263 - val_loss: 0.4503 - val_accuracy: 0.8094\n",
      "Epoch 11/20\n",
      "300/300 [==============================] - 1s 3ms/step - loss: 0.4100 - accuracy: 0.8270 - val_loss: 0.4424 - val_accuracy: 0.8152\n",
      "Epoch 12/20\n",
      "300/300 [==============================] - 1s 3ms/step - loss: 0.4076 - accuracy: 0.8272 - val_loss: 0.4414 - val_accuracy: 0.8138\n",
      "Epoch 13/20\n",
      "300/300 [==============================] - 1s 3ms/step - loss: 0.4060 - accuracy: 0.8267 - val_loss: 0.4458 - val_accuracy: 0.8148\n",
      "Epoch 14/20\n",
      "300/300 [==============================] - 1s 3ms/step - loss: 0.4038 - accuracy: 0.8288 - val_loss: 0.4533 - val_accuracy: 0.8163\n",
      "Epoch 15/20\n",
      "300/300 [==============================] - 1s 3ms/step - loss: 0.4019 - accuracy: 0.8311 - val_loss: 0.4476 - val_accuracy: 0.8100\n",
      "Epoch 16/20\n",
      "300/300 [==============================] - 1s 3ms/step - loss: 0.3980 - accuracy: 0.8301 - val_loss: 0.4537 - val_accuracy: 0.8085\n",
      "Epoch 17/20\n",
      "300/300 [==============================] - 1s 3ms/step - loss: 0.3961 - accuracy: 0.8299 - val_loss: 0.4486 - val_accuracy: 0.8135\n",
      "Epoch 18/20\n",
      "300/300 [==============================] - 1s 3ms/step - loss: 0.3949 - accuracy: 0.8306 - val_loss: 0.4497 - val_accuracy: 0.8123\n",
      "Epoch 19/20\n",
      "300/300 [==============================] - 1s 3ms/step - loss: 0.3908 - accuracy: 0.8333 - val_loss: 0.4514 - val_accuracy: 0.8117\n",
      "Epoch 20/20\n",
      "300/300 [==============================] - 1s 3ms/step - loss: 0.3883 - accuracy: 0.8324 - val_loss: 0.4517 - val_accuracy: 0.8131\n"
     ]
    },
    {
     "data": {
      "text/plain": [
       "<keras.src.callbacks.History at 0x198d748e110>"
      ]
     },
     "execution_count": 4,
     "metadata": {},
     "output_type": "execute_result"
    }
   ],
   "source": [
    "# Compilar el modelo\n",
    "model.compile(optimizer='adam', loss='binary_crossentropy', metrics=['accuracy'])\n",
    "\n",
    "# Entrenar el modelo\n",
    "model.fit(X_train, y_train, epochs=20, batch_size=64, validation_split=0.2)\n"
   ]
  },
  {
   "cell_type": "code",
   "execution_count": 5,
   "metadata": {},
   "outputs": [
    {
     "name": "stdout",
     "output_type": "stream",
     "text": [
      "188/188 [==============================] - 0s 1ms/step\n",
      "Accuracy en el conjunto de prueba: 80.80%\n"
     ]
    }
   ],
   "source": [
    "\n",
    "# Evaluar el modelo en el conjunto de prueba\n",
    "y_pred = (model.predict(X_test) > 0.5).astype(\"int32\")\n",
    "accuracy = accuracy_score(y_test, y_pred)\n",
    "print(f'Accuracy en el conjunto de prueba: {accuracy * 100:.2f}%')"
   ]
  }
 ],
 "metadata": {
  "kernelspec": {
   "display_name": "Python 3",
   "language": "python",
   "name": "python3"
  },
  "language_info": {
   "codemirror_mode": {
    "name": "ipython",
    "version": 3
   },
   "file_extension": ".py",
   "mimetype": "text/x-python",
   "name": "python",
   "nbconvert_exporter": "python",
   "pygments_lexer": "ipython3",
   "version": "3.11.5"
  },
  "orig_nbformat": 4
 },
 "nbformat": 4,
 "nbformat_minor": 2
}

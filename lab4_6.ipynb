{
 "cells": [
  {
   "cell_type": "code",
   "execution_count": 107,
   "metadata": {},
   "outputs": [],
   "source": [
    "import pandas as pd\n",
    "from sklearn.model_selection import train_test_split\n",
    "from sklearn.preprocessing import StandardScaler\n",
    "from sklearn.metrics import mean_squared_error\n",
    "import tensorflow as tf\n",
    "import numpy as np\n",
    "from keras.models import Sequential\n",
    "from keras.layers import Dense\n",
    "from keras.utils import to_categorical\n",
    "from sklearn.metrics import accuracy_score"
   ]
  },
  {
   "cell_type": "code",
   "execution_count": 108,
   "metadata": {},
   "outputs": [
    {
     "name": "stdout",
     "output_type": "stream",
     "text": [
      "Index(['LIMIT_BAL', 'SEX', 'EDUCATION', 'MARRIAGE', 'AGE', 'PAY_0', 'PAY_2',\n",
      "       'PAY_3', 'PAY_4', 'PAY_5', 'PAY_6', 'BILL_AMT1', 'BILL_AMT2',\n",
      "       'BILL_AMT3', 'BILL_AMT4', 'BILL_AMT5', 'BILL_AMT6', 'PAY_AMT1',\n",
      "       'PAY_AMT2', 'PAY_AMT3', 'PAY_AMT4', 'PAY_AMT5', 'PAY_AMT6',\n",
      "       'default payment next month'],\n",
      "      dtype='object')\n"
     ]
    }
   ],
   "source": [
    "# Leer los datos\n",
    "data = pd.read_csv('data.csv',sep=';')\n",
    "print(data.columns)\n",
    "\n",
    "# Dividir en características y etiquetas\n",
    "X = data.drop('default payment next month', axis=1)\n",
    "y = data['default payment next month']\n",
    "\n",
    "# Normalizar\n",
    "scaler = StandardScaler()\n",
    "X_scaled = scaler.fit_transform(X)\n",
    "\n",
    "# Dividir en entrenamiento y test\n",
    "X_train, X_test, y_train, y_test = train_test_split(X_scaled, y, test_size=0.2, random_state=42)"
   ]
  },
  {
   "cell_type": "code",
   "execution_count": 109,
   "metadata": {},
   "outputs": [],
   "source": [
    "# Inicializar el modelo\n",
    "model = tf.keras.Sequential()\n",
    "\n",
    "# Agregar capas\n",
    "model.add(tf.keras.layers.Dense(128, activation='relu', input_shape=(X_train.shape[1],)))\n",
    "model.add(tf.keras.layers.Dropout(0.3))\n",
    "model.add(tf.keras.layers.Dense(64, activation='relu'))\n",
    "model.add(tf.keras.layers.Dropout(0.3))\n",
    "model.add(tf.keras.layers.Dense(64, activation='relu'))\n",
    "model.add(tf.keras.layers.Dropout(0.3))\n",
    "model.add(tf.keras.layers.Dense(64, activation='relu'))\n",
    "model.add(tf.keras.layers.Dropout(0.3))\n",
    "model.add(tf.keras.layers.Dense(64, activation='relu'))\n",
    "model.add(tf.keras.layers.Dropout(0.3))\n",
    "model.add(tf.keras.layers.Dense(1, activation='sigmoid'))\n",
    "\n",
    "# Compilar el modelo\n",
    "model.compile(optimizer='adam', loss='binary_crossentropy', metrics=['accuracy'])"
   ]
  },
  {
   "cell_type": "code",
   "execution_count": 110,
   "metadata": {},
   "outputs": [
    {
     "name": "stdout",
     "output_type": "stream",
     "text": [
      "Epoch 1/20\n"
     ]
    },
    {
     "name": "stdout",
     "output_type": "stream",
     "text": [
      "450/450 - 1s - loss: 0.5039 - accuracy: 0.7904 - val_loss: 0.4574 - val_accuracy: 0.8072 - 1s/epoch - 3ms/step\n",
      "Epoch 2/20\n",
      "450/450 - 1s - loss: 0.4615 - accuracy: 0.8095 - val_loss: 0.4531 - val_accuracy: 0.8080 - 560ms/epoch - 1ms/step\n",
      "Epoch 3/20\n",
      "450/450 - 1s - loss: 0.4509 - accuracy: 0.8114 - val_loss: 0.4469 - val_accuracy: 0.8108 - 562ms/epoch - 1ms/step\n",
      "Epoch 4/20\n",
      "450/450 - 1s - loss: 0.4467 - accuracy: 0.8147 - val_loss: 0.4459 - val_accuracy: 0.8092 - 560ms/epoch - 1ms/step\n",
      "Epoch 5/20\n",
      "450/450 - 1s - loss: 0.4456 - accuracy: 0.8168 - val_loss: 0.4427 - val_accuracy: 0.8145 - 559ms/epoch - 1ms/step\n",
      "Epoch 6/20\n",
      "450/450 - 1s - loss: 0.4420 - accuracy: 0.8147 - val_loss: 0.4428 - val_accuracy: 0.8127 - 559ms/epoch - 1ms/step\n",
      "Epoch 7/20\n",
      "450/450 - 1s - loss: 0.4418 - accuracy: 0.8153 - val_loss: 0.4417 - val_accuracy: 0.8145 - 561ms/epoch - 1ms/step\n",
      "Epoch 8/20\n",
      "450/450 - 1s - loss: 0.4386 - accuracy: 0.8172 - val_loss: 0.4420 - val_accuracy: 0.8155 - 559ms/epoch - 1ms/step\n",
      "Epoch 9/20\n",
      "450/450 - 1s - loss: 0.4389 - accuracy: 0.8201 - val_loss: 0.4407 - val_accuracy: 0.8133 - 562ms/epoch - 1ms/step\n",
      "Epoch 10/20\n",
      "450/450 - 1s - loss: 0.4361 - accuracy: 0.8181 - val_loss: 0.4410 - val_accuracy: 0.8145 - 574ms/epoch - 1ms/step\n",
      "Epoch 11/20\n",
      "450/450 - 1s - loss: 0.4349 - accuracy: 0.8178 - val_loss: 0.4416 - val_accuracy: 0.8150 - 572ms/epoch - 1ms/step\n",
      "Epoch 12/20\n",
      "450/450 - 1s - loss: 0.4330 - accuracy: 0.8182 - val_loss: 0.4399 - val_accuracy: 0.8132 - 544ms/epoch - 1ms/step\n",
      "Epoch 13/20\n",
      "450/450 - 1s - loss: 0.4344 - accuracy: 0.8194 - val_loss: 0.4384 - val_accuracy: 0.8150 - 563ms/epoch - 1ms/step\n",
      "Epoch 14/20\n",
      "450/450 - 1s - loss: 0.4347 - accuracy: 0.8187 - val_loss: 0.4401 - val_accuracy: 0.8137 - 563ms/epoch - 1ms/step\n",
      "Epoch 15/20\n",
      "450/450 - 1s - loss: 0.4339 - accuracy: 0.8182 - val_loss: 0.4414 - val_accuracy: 0.8147 - 557ms/epoch - 1ms/step\n",
      "Epoch 16/20\n",
      "450/450 - 1s - loss: 0.4334 - accuracy: 0.8198 - val_loss: 0.4406 - val_accuracy: 0.8148 - 559ms/epoch - 1ms/step\n",
      "Epoch 17/20\n",
      "450/450 - 1s - loss: 0.4320 - accuracy: 0.8178 - val_loss: 0.4391 - val_accuracy: 0.8145 - 558ms/epoch - 1ms/step\n",
      "Epoch 18/20\n",
      "450/450 - 1s - loss: 0.4331 - accuracy: 0.8191 - val_loss: 0.4398 - val_accuracy: 0.8158 - 552ms/epoch - 1ms/step\n",
      "Epoch 19/20\n",
      "450/450 - 1s - loss: 0.4320 - accuracy: 0.8207 - val_loss: 0.4393 - val_accuracy: 0.8125 - 550ms/epoch - 1ms/step\n",
      "Epoch 20/20\n",
      "450/450 - 1s - loss: 0.4309 - accuracy: 0.8185 - val_loss: 0.4387 - val_accuracy: 0.8160 - 555ms/epoch - 1ms/step\n"
     ]
    }
   ],
   "source": [
    "batched_history=model.fit(\n",
    "    X_train,\n",
    "    y_train,\n",
    "    epochs=20,\n",
    "    validation_split=0.25,\n",
    "    batch_size=40,\n",
    "    verbose=2\n",
    ")"
   ]
  },
  {
   "cell_type": "code",
   "execution_count": 111,
   "metadata": {},
   "outputs": [
    {
     "name": "stdout",
     "output_type": "stream",
     "text": [
      "188/188 - 0s - loss: 0.4342 - accuracy: 0.8205 - 209ms/epoch - 1ms/step\n",
      "188/188 [==============================] - 0s 578us/step\n",
      "Accuracy en el conjunto de prueba: 82.05%\n"
     ]
    }
   ],
   "source": [
    "model.evaluate(X_test,y_test, verbose=2)\n",
    "# Evaluar el modelo en el conjunto de prueba\n",
    "y_pred = (model.predict(X_test) > 0.5).astype(\"int32\")\n",
    "accuracy = accuracy_score(y_test, y_pred)\n",
    "print(f'Accuracy en el conjunto de prueba: {accuracy * 100:.2f}%')"
   ]
  }
 ],
 "metadata": {
  "kernelspec": {
   "display_name": "Python 3",
   "language": "python",
   "name": "python3"
  },
  "language_info": {
   "codemirror_mode": {
    "name": "ipython",
    "version": 3
   },
   "file_extension": ".py",
   "mimetype": "text/x-python",
   "name": "python",
   "nbconvert_exporter": "python",
   "pygments_lexer": "ipython3",
   "version": "3.11.5"
  },
  "orig_nbformat": 4
 },
 "nbformat": 4,
 "nbformat_minor": 2
}
